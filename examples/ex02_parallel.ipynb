{
 "cells": [
  {
   "cell_type": "code",
   "execution_count": 1,
   "metadata": {
    "collapsed": true
   },
   "outputs": [],
   "source": [
    "addprocs(4);\n",
    "@everywhere using QSWalk"
   ]
  },
  {
   "cell_type": "code",
   "execution_count": 2,
   "metadata": {
    "collapsed": true
   },
   "outputs": [],
   "source": [
    "dim = 51;"
   ]
  },
  {
   "cell_type": "code",
   "execution_count": 3,
   "metadata": {
    "collapsed": true
   },
   "outputs": [],
   "source": [
    "s0 = Int((dim+1)/2);"
   ]
  },
  {
   "cell_type": "code",
   "execution_count": 4,
   "metadata": {
    "collapsed": true
   },
   "outputs": [],
   "source": [
    "adjmtx = spdiagm((ones(dim-1), ones(dim-1)), (-1, 1));"
   ]
  },
  {
   "cell_type": "code",
   "execution_count": 5,
   "metadata": {
    "collapsed": true
   },
   "outputs": [],
   "source": [
    "ham = adjmtx;\n",
    "lin = classical_lindblad_operators(adjmtx);\n",
    "evo = global_operator(ham, lin);\n",
    "init = proj(s0, dim);\n",
    "time_step = 1.0;\n",
    "time_points = collect(0:100)*time_step;"
   ]
  },
  {
   "cell_type": "code",
   "execution_count": 14,
   "metadata": {},
   "outputs": [
    {
     "name": "stdout",
     "output_type": "stream",
     "text": [
      "  4.548320 seconds (369.61 k allocations: 577.649 MiB, 0.90% gc time)\n"
     ]
    }
   ],
   "source": [
    "@time map(t->evolve(evo, init, t), time_points);\n"
   ]
  },
  {
   "cell_type": "code",
   "execution_count": 6,
   "metadata": {},
   "outputs": [
    {
     "name": "stdout",
     "output_type": "stream",
     "text": [
      " 25.059300 seconds (916.12 k allocations: 56.724 MiB, 0.09% gc time)\n"
     ]
    }
   ],
   "source": [
    "@time pmap(t->evolve(evo, init, t), time_points);"
   ]
  }
 ],
 "metadata": {
  "kernelspec": {
   "display_name": "Julia 0.6.0",
   "language": "julia",
   "name": "julia-0.6"
  },
  "language_info": {
   "file_extension": ".jl",
   "mimetype": "application/julia",
   "name": "julia",
   "version": "0.6.0"
  }
 },
 "nbformat": 4,
 "nbformat_minor": 2
}
