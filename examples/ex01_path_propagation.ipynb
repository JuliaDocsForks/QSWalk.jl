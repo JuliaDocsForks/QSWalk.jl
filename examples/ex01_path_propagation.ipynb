{
 "cells": [
  {
   "cell_type": "markdown",
   "metadata": {},
   "source": [
    "# Propagation on path graph"
   ]
  },
  {
   "cell_type": "markdown",
   "metadata": {},
   "source": [
    "## Loading modules"
   ]
  },
  {
   "cell_type": "code",
   "execution_count": null,
   "metadata": {},
   "outputs": [],
   "source": [
    "using QSWalk\n",
    "using PyPlot # for plot\n",
    "using LightGraphs # for PathGraph"
   ]
  },
  {
   "cell_type": "markdown",
   "metadata": {},
   "source": [
    "## Evolution on path graph for fixed time, global vs local interaction"
   ]
  },
  {
   "cell_type": "markdown",
   "metadata": {
    "collapsed": true
   },
   "source": [
    "Basic parameters. Note *dim* should be odd number. Otherwise middle point *midpoint* is not unique. \n",
    "*adjacency* can be generated as *adjacency = spdiagm((ones(dim-1), ones(dim-1)), (-1, 1))*."
   ]
  },
  {
   "cell_type": "code",
   "execution_count": null,
   "metadata": {
    "collapsed": true
   },
   "outputs": [],
   "source": [
    "dim = 251 #odd for unique middle point\n",
    "midpoint = ceil(Int, dim/2)\n",
    "w = 0.5\n",
    "timepoint = 100.\n",
    "adjacency = adjacency_matrix(PathGraph(dim));"
   ]
  },
  {
   "cell_type": "markdown",
   "metadata": {
    "collapsed": true
   },
   "source": [
    "Quantum stochastic walk: global interaction case. Note *evolve_generator* requires list of Lindblad operators, hence we need extra brackets"
   ]
  },
  {
   "cell_type": "code",
   "execution_count": null,
   "metadata": {
    "collapsed": true
   },
   "outputs": [],
   "source": [
    "opglobal = evolve_generator(adjacency, [adjacency], w)\n",
    "rhoglobal = evolve(opglobal, proj(midpoint, dim), timepoint);"
   ]
  },
  {
   "cell_type": "markdown",
   "metadata": {
    "collapsed": true
   },
   "source": [
    "Quantum stochastic walk: local interaction case. Note *lindlocal* is already a list of Lindbladian operators, hence we do not need extra brackets contrary to global interaction case."
   ]
  },
  {
   "cell_type": "code",
   "execution_count": null,
   "metadata": {
    "collapsed": true
   },
   "outputs": [],
   "source": [
    "lindlocal = classical_lindblad_operators(adjacency)\n",
    "oplocal = evolve_generator(adjacency, lindlocal, w)\n",
    "rholocal = evolve(oplocal, proj(midpoint, dim), timepoint);"
   ]
  },
  {
   "cell_type": "markdown",
   "metadata": {
    "collapsed": true
   },
   "source": [
    "To plot the result of cannonical measurement, we simply take a diagonal of the states. Note that both *rhoglobal* and *rholocal* are complex matrices, hence we need to take real part. *positions* is generated assuming *midpoint* (initial position) is at 0. Note that we have very heavy tails in global interaction case which confirms fasr propagation of the model."
   ]
  },
  {
   "cell_type": "code",
   "execution_count": null,
   "metadata": {},
   "outputs": [],
   "source": [
    "positions = (collect(1:dim) - midpoint)\n",
    "plot(positions, real.(diag(rholocal)), \"k\")\n",
    "plot(positions, real.(diag(rhoglobal)), \"b\")\n",
    "xlabel(\"position\")\n",
    "ylabel(\"probability\")\n",
    "show()"
   ]
  },
  {
   "cell_type": "markdown",
   "metadata": {},
   "source": [
    "## Evolution on path graph for fixed time, propagation analysis"
   ]
  },
  {
   "cell_type": "markdown",
   "metadata": {
    "collapsed": true
   },
   "source": [
    "Basic parameters. Note *dim* should be odd number. Otherwise middle point *midpoint* is not unique. \n",
    "*adjacency* can be generated as *adjacency = spdiagm((ones(dim-1), ones(dim-1)), (-1, 1))*."
   ]
  },
  {
   "cell_type": "code",
   "execution_count": null,
   "metadata": {
    "collapsed": true
   },
   "outputs": [],
   "source": [
    "dim = 251 #odd for unique middle point\n",
    "midpoint = ceil(Int, dim/2)\n",
    "w = 0.5\n",
    "timepoints = collect(0:5:100)\n",
    "adjacency = adjacency_matrix(PathGraph(dim));"
   ]
  },
  {
   "cell_type": "markdown",
   "metadata": {},
   "source": [
    "Preparation of global and local interaction operators."
   ]
  },
  {
   "cell_type": "code",
   "execution_count": null,
   "metadata": {
    "collapsed": true
   },
   "outputs": [],
   "source": [
    "opglobal = evolve_generator(adjacency, [adjacency], w)\n",
    "lindlocal = classical_lindblad_operators(adjacency)\n",
    "oplocal = evolve_generator(adjacency, lindlocal, w);"
   ]
  },
  {
   "cell_type": "markdown",
   "metadata": {
    "collapsed": true
   },
   "source": [
    "Calculating data. Note that comparing to global operators, density states usually are small matrices. Hence we can store those. Furthermore note, that evolve allows to compute the same evolutions at different points of time."
   ]
  },
  {
   "cell_type": "code",
   "execution_count": null,
   "metadata": {
    "collapsed": true
   },
   "outputs": [],
   "source": [
    "globalstates = evolve(opglobal, proj(midpoint, dim), timepoints)\n",
    "localstates = evolve(oplocal, proj(midpoint, dim), timepoints);"
   ]
  },
  {
   "cell_type": "markdown",
   "metadata": {},
   "source": [
    "Second moment data calculation"
   ]
  },
  {
   "cell_type": "code",
   "execution_count": null,
   "metadata": {
    "collapsed": true
   },
   "outputs": [],
   "source": [
    "secmomentglobal = Float64[]\n",
    "secmomentlocal = Float64[]\n",
    "positions = (collect(1:dim) - midpoint)\n",
    "\n",
    "for (rhoglobal, rholocal) = zip(globalstates, localstates)\n",
    "  push!(secmomentglobal, sum(positions.^2 .* diag(rhoglobal)))\n",
    "  push!(secmomentlocal, sum(positions.^2 .* diag(rholocal)))\n",
    "end"
   ]
  },
  {
   "cell_type": "markdown",
   "metadata": {
    "collapsed": true
   },
   "source": [
    "Plots of the results. Note that second moment for global interaction case grows ballisticaly."
   ]
  },
  {
   "cell_type": "code",
   "execution_count": null,
   "metadata": {},
   "outputs": [],
   "source": [
    "plot(timepoints, secmomentlocal, \"k\")\n",
    "plot(timepoints, secmomentglobal, \"b\")\n",
    "xlabel(\"t\")\n",
    "ylabel(L\"\\mu_2\")\n",
    "show()"
   ]
  }
 ],
 "metadata": {
  "kernelspec": {
   "display_name": "Julia 0.6.0",
   "language": "julia",
   "name": "julia-0.6"
  },
  "language_info": {
   "file_extension": ".jl",
   "mimetype": "application/julia",
   "name": "julia",
   "version": "0.6.0"
  }
 },
 "nbformat": 4,
 "nbformat_minor": 2
}
