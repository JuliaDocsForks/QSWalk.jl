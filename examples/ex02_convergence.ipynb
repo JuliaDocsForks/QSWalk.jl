{
 "cells": [
  {
   "cell_type": "markdown",
   "metadata": {},
   "source": [
    "# Convergence on local interaction model\n"
   ]
  },
  {
   "cell_type": "markdown",
   "metadata": {},
   "source": [
    "## Loading modules"
   ]
  },
  {
   "cell_type": "code",
   "execution_count": null,
   "metadata": {
    "collapsed": true
   },
   "outputs": [],
   "source": [
    "using QSWalk\n",
    "using LightGraphs # for various \n",
    "using TikzGraphs # for graphs plot "
   ]
  },
  {
   "cell_type": "markdown",
   "metadata": {},
   "source": [
    "## Numerical proof of unique stationary state"
   ]
  },
  {
   "cell_type": "markdown",
   "metadata": {},
   "source": [
    "Basic parameters. As graph we choose random Erdős–Rényi directed graph. Theory shows, that strongly connected graphs has unique stationary state. Note the Hamiltonian is chosen to be adjacency matrix of underlying graph."
   ]
  },
  {
   "cell_type": "code",
   "execution_count": null,
   "metadata": {},
   "outputs": [],
   "source": [
    "dim = 10\n",
    "digraph = erdos_renyi(dim, 0.5, is_directed=true)\n",
    "graph = Graph(digraph)\n",
    "adjacencydigraph = full(adjacency_matrix(digraph))\n",
    "adjacencygraph = full(adjacency_matrix(graph))\n",
    "time = 100.\n",
    "println(\"Is strongly connected: $(is_strongly_connected(digraph))\")\n",
    "TikzGraphs.plot(digraph)"
   ]
  },
  {
   "cell_type": "markdown",
   "metadata": {},
   "source": [
    "Generating operators code."
   ]
  },
  {
   "cell_type": "code",
   "execution_count": null,
   "metadata": {
    "collapsed": true
   },
   "outputs": [],
   "source": [
    "lind = classical_lindbladian(adjacencydigraph)\n",
    "globaloperator = evolve_generator(adjacencygraph, lind);"
   ]
  },
  {
   "cell_type": "markdown",
   "metadata": {},
   "source": [
    "The sufficient and necessary condition for quantum stochastic evolution being ergodic is one-dimensional null-space. This can be calulated as below. Note for large matrices *eigs* may be a better option."
   ]
  },
  {
   "cell_type": "code",
   "execution_count": null,
   "metadata": {},
   "outputs": [],
   "source": [
    "numspacedim = count(x->abs(x)<1e-5, eigvals(globaloperator))\n",
    "println(\"Dimensionality of null-space of global operator: $numspacedim\")"
   ]
  },
  {
   "cell_type": "markdown",
   "metadata": {},
   "source": [
    "This allows efficient stationary state generation. Note that the trace may differ from one, as the eigenstate is normalized according to different norm."
   ]
  },
  {
   "cell_type": "code",
   "execution_count": null,
   "metadata": {},
   "outputs": [],
   "source": [
    "eigendecomposition = eigfact(globaloperator)\n",
    "zeroindex = find(x -> abs(x)<=1.e-5, eigendecomposition[:values])\n",
    "stationarystate = unres(vec(eigendecomposition[:vectors][:, zeroindex]))\n",
    "println(\"Trace of stationary state $(trace(stationarystate))\")\n",
    "stationarystate /= trace(stationarystate)\n",
    "println(\"Trace of stationary state $(trace(stationarystate))\")"
   ]
  },
  {
   "cell_type": "markdown",
   "metadata": {},
   "source": [
    "## Convergence"
   ]
  },
  {
   "cell_type": "markdown",
   "metadata": {},
   "source": [
    "Since the stationary state is unique, all of the quantum states converges to it. We show this by taking three different states. Note, that for larger density states bigger time may need to be chosen."
   ]
  },
  {
   "cell_type": "code",
   "execution_count": null,
   "metadata": {},
   "outputs": [],
   "source": [
    "rhoinit1 = proj(1, dim)\n",
    "rhoinit2 = proj(3, dim)\n",
    "rhoinit3 = eye(dim)/dim;"
   ]
  },
  {
   "cell_type": "markdown",
   "metadata": {},
   "source": [
    "Since we apply the same evolution for all of the initial states, it is more efficient to calulate exponent once."
   ]
  },
  {
   "cell_type": "code",
   "execution_count": null,
   "metadata": {},
   "outputs": [],
   "source": [
    "U = evolve_operator(globaloperator, time)\n",
    "rho1 = evolve(U, rhoinit1)\n",
    "rho2 = evolve(U, rhoinit2)\n",
    "rho3 = evolve(U, rhoinit3);"
   ]
  },
  {
   "cell_type": "markdown",
   "metadata": {},
   "source": [
    "In order to show those states are essentialy the same we can calulate difference nor"
   ]
  },
  {
   "cell_type": "code",
   "execution_count": null,
   "metadata": {},
   "outputs": [],
   "source": [
    "println(norm(rho1-rho2))\n",
    "println(norm(rho2-rho3))\n",
    "println(norm(stationarystate-rho3))"
   ]
  }
 ],
 "metadata": {
  "kernelspec": {
   "display_name": "Julia 0.6.0",
   "language": "julia",
   "name": "julia-0.6"
  },
  "language_info": {
   "file_extension": ".jl",
   "mimetype": "application/julia",
   "name": "julia",
   "version": "0.6.0"
  }
 },
 "nbformat": 4,
 "nbformat_minor": 2
}
