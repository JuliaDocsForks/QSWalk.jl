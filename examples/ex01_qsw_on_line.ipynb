{
 "cells": [
  {
   "cell_type": "code",
   "execution_count": 1,
   "metadata": {},
   "outputs": [
    {
     "name": "stderr",
     "output_type": "stream",
     "text": [
      "\u001b[1m\u001b[36mINFO: \u001b[39m\u001b[22m\u001b[36mRecompiling stale cache file /home/jam/.julia/lib/v0.6/MacroTools.ji for module MacroTools.\n",
      "\u001b[39m\u001b[1m\u001b[36mINFO: \u001b[39m\u001b[22m\u001b[36mRecompiling stale cache file /home/jam/.julia/lib/v0.6/PyPlot.ji for module PyPlot.\n",
      "\u001b[39m"
     ]
    }
   ],
   "source": [
    "using QSWalk\n",
    "using PyPlot"
   ]
  },
  {
   "cell_type": "code",
   "execution_count": 2,
   "metadata": {},
   "outputs": [
    {
     "data": {
      "text/plain": [
       "51"
      ]
     },
     "execution_count": 2,
     "metadata": {},
     "output_type": "execute_result"
    }
   ],
   "source": [
    "dim = 51"
   ]
  },
  {
   "cell_type": "code",
   "execution_count": 3,
   "metadata": {},
   "outputs": [
    {
     "data": {
      "text/plain": [
       "26"
      ]
     },
     "execution_count": 3,
     "metadata": {},
     "output_type": "execute_result"
    }
   ],
   "source": [
    "s0 = Int((dim+1)/2)"
   ]
  },
  {
   "cell_type": "code",
   "execution_count": 4,
   "metadata": {},
   "outputs": [
    {
     "data": {
      "text/plain": [
       "51×51 SparseMatrixCSC{Float64,Int64} with 100 stored entries:\n",
       "  [2 ,  1]  =  1.0\n",
       "  [1 ,  2]  =  1.0\n",
       "  [3 ,  2]  =  1.0\n",
       "  [2 ,  3]  =  1.0\n",
       "  [4 ,  3]  =  1.0\n",
       "  [3 ,  4]  =  1.0\n",
       "  [5 ,  4]  =  1.0\n",
       "  [4 ,  5]  =  1.0\n",
       "  [6 ,  5]  =  1.0\n",
       "  [5 ,  6]  =  1.0\n",
       "  ⋮\n",
       "  [45, 46]  =  1.0\n",
       "  [47, 46]  =  1.0\n",
       "  [46, 47]  =  1.0\n",
       "  [48, 47]  =  1.0\n",
       "  [47, 48]  =  1.0\n",
       "  [49, 48]  =  1.0\n",
       "  [48, 49]  =  1.0\n",
       "  [50, 49]  =  1.0\n",
       "  [49, 50]  =  1.0\n",
       "  [51, 50]  =  1.0\n",
       "  [50, 51]  =  1.0"
      ]
     },
     "execution_count": 4,
     "metadata": {},
     "output_type": "execute_result"
    }
   ],
   "source": [
    "adjmtx = spdiagm((ones(dim-1),ones(dim-1)),(-1,1))"
   ]
  },
  {
   "cell_type": "code",
   "execution_count": 5,
   "metadata": {},
   "outputs": [
    {
     "data": {
      "text/plain": [
       "11-element Array{Float64,1}:\n",
       "  0.0\n",
       "  1.0\n",
       "  2.0\n",
       "  3.0\n",
       "  4.0\n",
       "  5.0\n",
       "  6.0\n",
       "  7.0\n",
       "  8.0\n",
       "  9.0\n",
       " 10.0"
      ]
     },
     "execution_count": 5,
     "metadata": {},
     "output_type": "execute_result"
    }
   ],
   "source": [
    "ham = adjmtx\n",
    "lin = classical_lindblad_operators(adjmtx)\n",
    "evo = global_operator(ham, lin)\n",
    "init = proj(s0, dim)\n",
    "time_step = 1.0\n",
    "time_points = collect(0:10)*time_step"
   ]
  },
  {
   "cell_type": "code",
   "execution_count": 8,
   "metadata": {},
   "outputs": [
    {
     "data": {
      "text/plain": [
       "51×51 Array{Complex{Float64},2}:\n",
       "  5.25093e-26+0.0im          …   2.19673e-57+0.0im        \n",
       "          0.0+4.77175e-26im              0.0+6.36938e-56im\n",
       " -4.42903e-26+0.0im             -2.68785e-54+0.0im        \n",
       "          0.0-4.1068e-26im               0.0-1.56711e-52im\n",
       "  3.80732e-26+0.0im              9.96551e-51+0.0im        \n",
       "          0.0+3.52892e-26im  …           0.0+6.08037e-49im\n",
       " -3.27018e-26+0.0im             -3.42342e-47+0.0im        \n",
       "          0.0-3.02975e-26im              0.0-1.75546e-45im\n",
       "  2.80639e-26+0.0im              8.13149e-44+0.0im        \n",
       "          0.0+2.59893e-26im              0.0+3.37561e-42im\n",
       " -2.40627e-26+0.0im          …  -1.24492e-40+0.0im        \n",
       "          0.0-2.2274e-26im               0.0-4.03856e-39im\n",
       "  2.06136e-26+0.0im              1.13939e-37+0.0im        \n",
       "             ⋮               ⋱              ⋮             \n",
       "          0.0-4.03856e-39im              0.0-2.2274e-26im \n",
       " -1.24492e-40+0.0im          …  -2.40627e-26+0.0im        \n",
       "          0.0+3.37561e-42im              0.0+2.59893e-26im\n",
       "  8.13149e-44+0.0im              2.80639e-26+0.0im        \n",
       "          0.0-1.75546e-45im              0.0-3.02975e-26im\n",
       " -3.42342e-47+0.0im             -3.27018e-26+0.0im        \n",
       "          0.0+6.08037e-49im  …           0.0+3.52892e-26im\n",
       "  9.96551e-51+0.0im              3.80732e-26+0.0im        \n",
       "          0.0-1.56711e-52im              0.0-4.1068e-26im \n",
       " -2.68785e-54+0.0im             -4.42903e-26+0.0im        \n",
       "          0.0+6.36938e-56im              0.0+4.77175e-26im\n",
       "  2.19673e-57+0.0im          …   5.25093e-26+0.0im        "
      ]
     },
     "execution_count": 8,
     "metadata": {},
     "output_type": "execute_result"
    }
   ],
   "source": [
    "res = evolve(evo, full(init), time_step)"
   ]
  }
 ],
 "metadata": {
  "kernelspec": {
   "display_name": "Julia 0.6.0",
   "language": "julia",
   "name": "julia-0.6"
  },
  "language_info": {
   "file_extension": ".jl",
   "mimetype": "application/julia",
   "name": "julia",
   "version": "0.6.0"
  }
 },
 "nbformat": 4,
 "nbformat_minor": 2
}
